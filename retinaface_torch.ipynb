{
 "cells": [
  {
   "cell_type": "code",
   "execution_count": 6,
   "metadata": {},
   "outputs": [
    {
     "name": "stderr",
     "output_type": "stream",
     "text": [
      "Traceback (most recent call last):\n",
      "  File \"train.py\", line 14, in <module>\n",
      "    from models.retinaface import RetinaFace\n",
      "  File \"d:\\python\\object_detection\\Pytorch_RetinaFace\\models\\retinaface.py\", line 3, in <module>\n",
      "    import torchvision.models.detection.backbone_utils as backbone_utils\n",
      "  File \"c:\\Users\\ForYou\\anaconda3\\envs\\pytorch\\lib\\site-packages\\torchvision\\__init__.py\", line 7, in <module>\n",
      "    from torchvision import datasets\n",
      "  File \"c:\\Users\\ForYou\\anaconda3\\envs\\pytorch\\lib\\site-packages\\torchvision\\datasets\\__init__.py\", line 1, in <module>\n",
      "    from .lsun import LSUN, LSUNClass\n",
      "  File \"c:\\Users\\ForYou\\anaconda3\\envs\\pytorch\\lib\\site-packages\\torchvision\\datasets\\lsun.py\", line 2, in <module>\n",
      "    from PIL import Image\n",
      "  File \"c:\\Users\\ForYou\\anaconda3\\envs\\pytorch\\lib\\site-packages\\PIL\\Image.py\", line 100, in <module>\n",
      "    from . import _imaging as core\n",
      "ImportError: DLL load failed while importing _imaging: 지정된 모듈을 찾을 수 없습니다.\n"
     ]
    }
   ],
   "source": [
    "!python train.py --network mobile0.25 --training_dataset ../0.dataset/face_detection/train/label.txt"
   ]
  },
  {
   "cell_type": "code",
   "execution_count": 9,
   "metadata": {},
   "outputs": [
    {
     "data": {
      "text/plain": [
       "device(type='cuda')"
      ]
     },
     "execution_count": 9,
     "metadata": {},
     "output_type": "execute_result"
    }
   ],
   "source": [
    "import torch\n",
    "torch.device(\"cuda\" if torch.cuda.is_available() else \"cpu\")"
   ]
  },
  {
   "cell_type": "markdown",
   "metadata": {},
   "source": [
    "# 1. Training"
   ]
  },
  {
   "cell_type": "code",
   "execution_count": 11,
   "metadata": {},
   "outputs": [
    {
     "name": "stdout",
     "output_type": "stream",
     "text": [
      "G:\\내 드라이브\\Pytorch_Retinaface\n"
     ]
    }
   ],
   "source": [
    "# Retina Face train.py 폴더\n",
    "cd G:/내 드라이브/Pytorch_Retinaface"
   ]
  },
  {
   "cell_type": "code",
   "execution_count": 21,
   "metadata": {},
   "outputs": [
    {
     "name": "stdout",
     "output_type": "stream",
     "text": [
      "^C\n"
     ]
    }
   ],
   "source": [
    "!python train.py --network mobile0.25 --training_dataset ../dataset/wider_face/train/label.txt"
   ]
  },
  {
   "cell_type": "code",
   "execution_count": null,
   "metadata": {},
   "outputs": [],
   "source": []
  }
 ],
 "metadata": {
  "kernelspec": {
   "display_name": "pytorch",
   "language": "python",
   "name": "python3"
  },
  "language_info": {
   "codemirror_mode": {
    "name": "ipython",
    "version": 3
   },
   "file_extension": ".py",
   "mimetype": "text/x-python",
   "name": "python",
   "nbconvert_exporter": "python",
   "pygments_lexer": "ipython3",
   "version": "3.8.18"
  }
 },
 "nbformat": 4,
 "nbformat_minor": 2
}
